{
  "nbformat": 4,
  "nbformat_minor": 0,
  "metadata": {
    "colab": {
      "name": "GUI.ipynb",
      "provenance": [],
      "authorship_tag": "ABX9TyM1Lzm/Pcdri4nQ65AH0iuc",
      "include_colab_link": true
    },
    "kernelspec": {
      "name": "python3",
      "display_name": "Python 3"
    },
    "language_info": {
      "name": "python"
    }
  },
  "cells": [
    {
      "cell_type": "markdown",
      "metadata": {
        "id": "view-in-github",
        "colab_type": "text"
      },
      "source": [
        "<a href=\"https://colab.research.google.com/github/M4rkAdrian/OOP-1-2/blob/main/GUI.ipynb\" target=\"_parent\"><img src=\"https://colab.research.google.com/assets/colab-badge.svg\" alt=\"Open In Colab\"/></a>"
      ]
    },
    {
      "cell_type": "code",
      "execution_count": 8,
      "metadata": {
        "colab": {
          "base_uri": "https://localhost:8080/"
        },
        "id": "iQlnt6ljujeI",
        "outputId": "a2e680a6-b575-4f28-81de-9e4aa20cb080"
      },
      "outputs": [
        {
          "output_type": "stream",
          "name": "stdout",
          "text": [
            "The prelim grade of student 1 is100\n",
            "The midterm grade of student 1 is95\n",
            "The final grade of student 1 is97\n",
            "The final grade of student 1 is97.33333333333333\n",
            "Female\n"
          ]
        }
      ],
      "source": [
        "#@title Student in OOP\n",
        "\n",
        "Student_Name1 = \"Mark Adrian Beranque\" #@param {type:\"string\"}\n",
        "prelim = 100 #@param {type:\"number\"}\n",
        "midterms = 95 #@param {type:\"number\"}\n",
        "final = 97 #@param {type:\"number\"}\n",
        "\n",
        "semestral_grade = (prelim + midterms + final)/3\n",
        "\n",
        "print(\"The prelim grade of student 1 is\"+\"\"+str(prelim))\n",
        "print(\"The midterm grade of student 1 is\"+\"\"+str(midterms))\n",
        "print(\"The final grade of student 1 is\"+\"\"+str(final))\n",
        "print(\"The final grade of student 1 is\"+\"\"+str(semestral_grade))\n",
        "\n",
        "#@title Gender \n",
        "Gender = \"Male\" #@param[\"Male\",\"Female\"]\n",
        "print(Gender)\n",
        "\n",
        "Birthdate ='2022-04-07' #@param{type:\"date\"}"
      ]
    }
  ]
}