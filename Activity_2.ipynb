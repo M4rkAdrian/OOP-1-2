{
  "nbformat": 4,
  "nbformat_minor": 0,
  "metadata": {
    "colab": {
      "name": "Activity 2.ipynb",
      "provenance": [],
      "authorship_tag": "ABX9TyPoXF1Kxzrm2X1uzb+dsJ0g",
      "include_colab_link": true
    },
    "kernelspec": {
      "name": "python3",
      "display_name": "Python 3"
    },
    "language_info": {
      "name": "python"
    }
  },
  "cells": [
    {
      "cell_type": "markdown",
      "metadata": {
        "id": "view-in-github",
        "colab_type": "text"
      },
      "source": [
        "<a href=\"https://colab.research.google.com/github/M4rkAdrian/OOP-1-2/blob/main/Activity_2.ipynb\" target=\"_parent\"><img src=\"https://colab.research.google.com/assets/colab-badge.svg\" alt=\"Open In Colab\"/></a>"
      ]
    },
    {
      "cell_type": "code",
      "source": [
        "#Write a python program that converts the temperature Celsius to Fahrenheit. Create a class name Temperature.\n",
        "#Create Celsius as attribute name, Temp() as method, and temp1 as object name. F = 1.8 x C + 32"
      ],
      "metadata": {
        "id": "Sk74H3NqXfoZ"
      },
      "execution_count": null,
      "outputs": []
    },
    {
      "cell_type": "code",
      "source": [
        "class Temperature:\n",
        "  def __init__(self,Celsius):\n",
        "    self.Celsius = Celsius\n",
        "\n",
        "  def Temp(self):\n",
        "    return 1.8 * self.Celsius + 32\n",
        "\n",
        "temp1 = Temperature(40)\n",
        "\n",
        "print(\"The equivalent temperature in Fahrenheit is\", temp1.Temp())\n"
      ],
      "metadata": {
        "colab": {
          "base_uri": "https://localhost:8080/"
        },
        "id": "ArSiU3dVYVHs",
        "outputId": "dfd87611-8492-4305-e6f3-24a7d8dc6c0e"
      },
      "execution_count": 10,
      "outputs": [
        {
          "output_type": "stream",
          "name": "stdout",
          "text": [
            "The equivalent temperature in Fahrenheit is 104.0\n"
          ]
        }
      ]
    },
    {
      "cell_type": "code",
      "source": [
        "#Define an Area() method of the class that calculates the circle’s area.\n",
        "#Define a Perimeter() method of the class which allows you to calculate the perimeter of the circle.\n"
      ],
      "metadata": {
        "id": "tkNluuAJOueZ"
      },
      "execution_count": null,
      "outputs": []
    },
    {
      "cell_type": "code",
      "source": [
        "class Circle:\n",
        "  def __init__(self,radius):\n",
        "    self.radius = radius\n",
        "  \n",
        "  def Area(self):\n",
        "    return float(3.1416) * self.radius **2\n",
        "\n",
        "  def Perimeter(self):\n",
        "    return 2 * float(3.1416) * self.radius\n",
        "\n",
        "circ1 = Circle(float(input(\"Enter the given radius of the circle:\")))\n",
        "\n",
        "print(\"The area of the circle is\", circ1.Area())\n",
        "\n",
        "print(\"The perimeter of the circle is\", circ1.Perimeter())\n",
        "\n",
        "\n"
      ],
      "metadata": {
        "colab": {
          "base_uri": "https://localhost:8080/"
        },
        "id": "WGZFZynbPNLX",
        "outputId": "25b4de91-4157-43b4-92ad-70dbfdf7a2b1"
      },
      "execution_count": 36,
      "outputs": [
        {
          "output_type": "stream",
          "name": "stdout",
          "text": [
            "Enter the given radius of the circle:5\n",
            "The area of the circle is 78.53999999999999\n",
            "The perimeter of the circle is 31.416\n"
          ]
        }
      ]
    }
  ]
}